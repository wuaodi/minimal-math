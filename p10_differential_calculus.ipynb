{
 "cells": [
  {
   "cell_type": "code",
   "execution_count": 8,
   "metadata": {},
   "outputs": [
    {
     "name": "stdout",
     "output_type": "stream",
     "text": [
      "f(x) = 0.015701888129115105\n",
      "f'(x) = -9.849587440490723\n"
     ]
    }
   ],
   "source": [
    "# 莱布尼茨法则，适用于：f(x) = u(x)*v(x)\n",
    "# f'(x) = u'(x)*v(x) + u(x)*v'(x)\n",
    "\n",
    "import torch\n",
    "\n",
    "# 定义变量\n",
    "x = torch.tensor(3.14, requires_grad=True)  # 需要求导的变量\n",
    "\n",
    "# 定义函数 u(x) 和 v(x)\n",
    "def u(x):\n",
    "    return x**2  # 例如 u(x) = x^2\n",
    "\n",
    "def v(x):\n",
    "    return torch.sin(x)  # 例如 v(x) = sin(x)\n",
    "\n",
    "# 计算 f(x) = u(x) * v(x)\n",
    "f = u(x) * v(x)\n",
    "\n",
    "# 反向传播，计算导数\n",
    "f.backward()\n",
    "\n",
    "# 输出结果\n",
    "print(\"f(x) =\", f.item())\n",
    "print(\"f'(x) =\", x.grad.item())"
   ]
  },
  {
   "cell_type": "code",
   "execution_count": 12,
   "metadata": {},
   "outputs": [
    {
     "name": "stdout",
     "output_type": "stream",
     "text": [
      "f(g(x)) = 2.0\n",
      "f'(x) = 4.0\n"
     ]
    }
   ],
   "source": [
    "# 链式法则，适用于：f(x) = f(g(x)))\n",
    "# f'(x) = f'(g(x)) * g'(x)\n",
    "\n",
    "import torch\n",
    "\n",
    "# 定义变量\n",
    "x = torch.tensor(1.0, requires_grad=True)  # 需要求导的变量\n",
    "\n",
    "# 定义内层函数 g(x)\n",
    "def g(x):\n",
    "    return x**2  # 例如 g(x) = x^2\n",
    "\n",
    "# 定义外层函数 f(u)\n",
    "def f(u):\n",
    "    return 2*u # 例如 f(u) = sin(u)\n",
    "\n",
    "# 计算 f(g(x))\n",
    "u = g(x)  # 先计算 g(x)\n",
    "result = f(u)  # 然后计算 f(g(x))\n",
    "\n",
    "# 反向传播，计算导数\n",
    "result.backward()\n",
    "\n",
    "# 输出结果\n",
    "print(\"f(g(x)) =\", result.item())\n",
    "print(\"f'(x) =\", x.grad.item())"
   ]
  },
  {
   "cell_type": "code",
   "execution_count": 15,
   "metadata": {},
   "outputs": [
    {
     "name": "stdout",
     "output_type": "stream",
     "text": [
      "f(x, y, z) = 14.0\n",
      "∂f/∂x = 2.0\n",
      "--------------------------------\n",
      "f(x, y, z) = 14.0\n",
      "∂f/∂x = 2.0\n",
      "∂f/∂y = 4.0\n",
      "∂f/∂z = 6.0\n",
      "df/dx = 12.0\n"
     ]
    }
   ],
   "source": [
    "# 多元函数求偏导数，适用于：f(x,y,z) = x^2 + y^2 + z^2\n",
    "\n",
    "# 情况一：对x求偏导数时候，将其他变量视为常数\n",
    "import torch\n",
    "\n",
    "# 定义变量\n",
    "x = torch.tensor(1.0, requires_grad=True)  # 需要求导的变量\n",
    "y = torch.tensor(2.0)  # 视为常数\n",
    "z = torch.tensor(3.0)  # 视为常数\n",
    "\n",
    "# 定义函数 f(x, y, z)\n",
    "def f(x, y, z):\n",
    "    return x**2 + y**2 + z**2\n",
    "\n",
    "# 计算 f(x, y, z)\n",
    "result = f(x, y, z)\n",
    "\n",
    "# 反向传播，计算偏导\n",
    "result.backward()\n",
    "\n",
    "# 输出结果\n",
    "print(\"f(x, y, z) =\", result.item())\n",
    "print(\"∂f/∂x =\", x.grad.item())\n",
    "\n",
    "\n",
    "print('------------------------------------------------')\n",
    "# 情况二：求关于x的全导数，df/dx = ∂f/∂x + ∂f/∂y * ∂y/∂x + ∂f/∂z * ∂z/∂x + ...\n",
    "# f(x,y,z) = x^2 + y^2 + z^2\n",
    "# df / dx = 2x + 2y(dy/dx) + 2z(dz/dx)\n",
    "# 如果 y 和 z 不依赖于 x，那么 df / dx = 2x + 0 + 0\n",
    "import torch\n",
    "\n",
    "# 定义变量\n",
    "x = torch.tensor(1.0, requires_grad=True)  # 需要求导的变量\n",
    "y = torch.tensor(2.0, requires_grad=True)  # 需要求导的变量\n",
    "z = torch.tensor(3.0, requires_grad=True)  # 需要求导的变量\n",
    "\n",
    "# 定义函数 f(x, y, z)\n",
    "def f(x, y, z):\n",
    "    return x**2 + y**2 + z**2\n",
    "\n",
    "# 计算 f(x, y, z)\n",
    "result = f(x, y, z)\n",
    "\n",
    "# 反向传播，计算偏导数\n",
    "result.backward()\n",
    "\n",
    "# 输出结果\n",
    "print(\"f(x, y, z) =\", result.item())\n",
    "print(\"∂f/∂x =\", x.grad.item())\n",
    "print(\"∂f/∂y =\", y.grad.item())\n",
    "print(\"∂f/∂z =\", z.grad.item())\n",
    "\n",
    "# 假设 dy/dx 和 dz/dx 为常数（例如 1），这里可以根据实际情况调整\n",
    "dy_dx = 1.0  # 假设 y = g(x)\n",
    "dz_dx = 1.0  # 假设 z = h(x)\n",
    "\n",
    "# 计算全导数\n",
    "df_dx = (x.grad + y.grad * dy_dx + z.grad * dz_dx)\n",
    "print(\"df/dx =\", df_dx.item())\n"
   ]
  },
  {
   "cell_type": "code",
   "execution_count": 16,
   "metadata": {},
   "outputs": [
    {
     "name": "stdout",
     "output_type": "stream",
     "text": [
      "x = 0.5\n",
      "y = 0.8660253882408142\n",
      "dy/dx = -0.5773502795520422\n"
     ]
    }
   ],
   "source": [
    "# 隐函数求导\n",
    "# 例子 x^2 + y^2 = 1，两同时对x求导，将dy/dx写到一边\n",
    "# 2x + 2y*(dy/dx) = 0\n",
    "# (dy/dx) = -x/y\n",
    "\n",
    "import torch\n",
    "\n",
    "# 定义变量\n",
    "x = torch.tensor(0.5, requires_grad=True)  # x 的值\n",
    "y = torch.sqrt(1 - x**2)  # 根据隐函数计算 y 的值\n",
    "\n",
    "# 使用隐函数求导公式\n",
    "dy_dx = -x.item() / y.item()  # 直接用 x 和 y 的值计算\n",
    "\n",
    "# 输出结果\n",
    "print(\"x =\", x.item())\n",
    "print(\"y =\", y.item())\n",
    "print(\"dy/dx =\", dy_dx)"
   ]
  }
 ],
 "metadata": {
  "kernelspec": {
   "display_name": "base",
   "language": "python",
   "name": "python3"
  },
  "language_info": {
   "codemirror_mode": {
    "name": "ipython",
    "version": 3
   },
   "file_extension": ".py",
   "mimetype": "text/x-python",
   "name": "python",
   "nbconvert_exporter": "python",
   "pygments_lexer": "ipython3",
   "version": "3.12.4"
  }
 },
 "nbformat": 4,
 "nbformat_minor": 2
}
