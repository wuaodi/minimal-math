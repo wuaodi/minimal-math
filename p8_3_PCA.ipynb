{
 "cells": [
  {
   "cell_type": "code",
   "execution_count": null,
   "metadata": {},
   "outputs": [],
   "source": [
    "# 主成分分析，用于降维\n",
    "\n",
    "# 找到一个轴，在这个轴上方差最大，然后就可以将高维的数据压缩到这个轴上\n",
    "\n",
    "# https://www.bilibili.com/video/BV1E5411E71z/"
   ]
  }
 ],
 "metadata": {
  "language_info": {
   "name": "python"
  }
 },
 "nbformat": 4,
 "nbformat_minor": 2
}
