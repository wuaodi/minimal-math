{
 "cells": [
  {
   "cell_type": "code",
   "execution_count": 1,
   "metadata": {},
   "outputs": [],
   "source": [
    "# 奇异值分解\n",
    "\n",
    "# 一句话：进阶版的对角化，可以应用于任意矩阵"
   ]
  },
  {
   "cell_type": "markdown",
   "metadata": {},
   "source": [
    "A是一个m*n的矩阵\n",
    "可以分解成：\n",
    "\n",
    "A = U * Sigma * V^T\n",
    "\n",
    "其中U是一个m*m的矩阵，Sigma是一个m*n的矩阵，V^T是一个n*n的矩阵\n",
    "\n",
    "U和V的列向量都是单位正交向量\n",
    "\n",
    "奇异值矩阵Sigma是一个m*n的矩阵，其中主对角线上的元素是奇异值且大于0，从大到小排列，其他元素都是0。"
   ]
  },
  {
   "cell_type": "code",
   "execution_count": null,
   "metadata": {},
   "outputs": [],
   "source": [
    "# 假设已知Sigma对角线上有k个非零的值，那么A的rank就是k\n",
    "\n"
   ]
  }
 ],
 "metadata": {
  "kernelspec": {
   "display_name": "base",
   "language": "python",
   "name": "python3"
  },
  "language_info": {
   "codemirror_mode": {
    "name": "ipython",
    "version": 3
   },
   "file_extension": ".py",
   "mimetype": "text/x-python",
   "name": "python",
   "nbconvert_exporter": "python",
   "pygments_lexer": "ipython3",
   "version": "3.12.4"
  }
 },
 "nbformat": 4,
 "nbformat_minor": 2
}
