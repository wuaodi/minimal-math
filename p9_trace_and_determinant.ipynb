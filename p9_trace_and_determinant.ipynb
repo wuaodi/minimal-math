{
 "cells": [
  {
   "cell_type": "code",
   "execution_count": 2,
   "metadata": {},
   "outputs": [
    {
     "name": "stdout",
     "output_type": "stream",
     "text": [
      "矩阵的迹: 15\n"
     ]
    }
   ],
   "source": [
    "# trace 对角线元素之和\n",
    "import torch\n",
    "\n",
    "# 创建一个示例矩阵\n",
    "A = torch.tensor([[1, 2, 3],\n",
    "                  [4, 5, 6],\n",
    "                  [7, 8, 9]])\n",
    "\n",
    "# 计算矩阵的迹\n",
    "trace_value = torch.trace(A)\n",
    "\n",
    "print(\"矩阵的迹:\", trace_value.item())"
   ]
  },
  {
   "cell_type": "code",
   "execution_count": 3,
   "metadata": {},
   "outputs": [
    {
     "name": "stdout",
     "output_type": "stream",
     "text": [
      "矩阵的行列式: 0.9999996423721313\n"
     ]
    }
   ],
   "source": [
    "# determinant 行列式\n",
    "# 方阵的行列式等于所有特征值的乘积\n",
    "# 行列式可以认为是矩阵会把一个向量缩放到多大的一个衡量\n",
    "# 如果行列式为1，那个这个transform是volume preserving的\n",
    "# 如果行列式为0，那么这个transform至少在一个维度上完全塌陷，说明矩阵是奇异的或者不满秩的\n",
    "\n",
    "import torch\n",
    "\n",
    "# 创建一个示例矩阵\n",
    "A = torch.tensor([[1, 2, 3],\n",
    "                  [0, 1, 4],\n",
    "                  [5, 6, 0]], dtype=torch.float32)\n",
    "\n",
    "# 计算矩阵的行列式\n",
    "determinant_value = torch.det(A)\n",
    "\n",
    "print(\"矩阵的行列式:\", determinant_value.item())"
   ]
  }
 ],
 "metadata": {
  "kernelspec": {
   "display_name": "base",
   "language": "python",
   "name": "python3"
  },
  "language_info": {
   "codemirror_mode": {
    "name": "ipython",
    "version": 3
   },
   "file_extension": ".py",
   "mimetype": "text/x-python",
   "name": "python",
   "nbconvert_exporter": "python",
   "pygments_lexer": "ipython3",
   "version": "3.12.4"
  }
 },
 "nbformat": 4,
 "nbformat_minor": 2
}
