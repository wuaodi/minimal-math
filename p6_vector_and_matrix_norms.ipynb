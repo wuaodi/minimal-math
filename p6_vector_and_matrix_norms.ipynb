{
 "cells": [
  {
   "cell_type": "code",
   "execution_count": 1,
   "metadata": {},
   "outputs": [],
   "source": [
    "import torch"
   ]
  },
  {
   "cell_type": "code",
   "execution_count": null,
   "metadata": {},
   "outputs": [],
   "source": [
    "# 范数可以理解为到原点的距离，二范数是欧氏距离\n",
    "\n",
    "# 一范数是绝对值相加\n",
    "# 二范数是平方相加开根号\n",
    "# 无穷范数是绝对值最大值 【很有趣】\n",
    "\n",
    "# 矩阵一般使用二范数"
   ]
  },
  {
   "cell_type": "code",
   "execution_count": 8,
   "metadata": {},
   "outputs": [
    {
     "name": "stdout",
     "output_type": "stream",
     "text": [
      "tensor(6.)\n",
      "tensor(16.8819)\n"
     ]
    },
    {
     "name": "stderr",
     "output_type": "stream",
     "text": [
      "/var/folders/zz/2g494zsj1s16wvd3tbwf6ftm0000gn/T/ipykernel_62272/510144999.py:5: UserWarning: To copy construct from a tensor, it is recommended to use sourceTensor.clone().detach() or sourceTensor.clone().detach().requires_grad_(True), rather than torch.tensor(sourceTensor).\n",
      "  norm1_x = torch.norm(torch.tensor(x), p=1)\n",
      "/var/folders/zz/2g494zsj1s16wvd3tbwf6ftm0000gn/T/ipykernel_62272/510144999.py:6: UserWarning: To copy construct from a tensor, it is recommended to use sourceTensor.clone().detach() or sourceTensor.clone().detach().requires_grad_(True), rather than torch.tensor(sourceTensor).\n",
      "  norm1_A = torch.norm(torch.tensor(A), p=2)\n"
     ]
    }
   ],
   "source": [
    "# 使用torch实现矩阵和向量的范数\n",
    "x = torch.tensor([1, -2, 3], dtype=torch.float)\n",
    "A = torch.tensor([[1, 2, 3], [4, 5, 6], [7, 8, 9]], dtype=torch.float)\n",
    "\n",
    "norm1_x = torch.norm(torch.tensor(x), p=1)\n",
    "norm1_A = torch.norm(torch.tensor(A), p=2)\n",
    "\n",
    "print(norm1_x)\n",
    "print(norm1_A)"
   ]
  }
 ],
 "metadata": {
  "kernelspec": {
   "display_name": "base",
   "language": "python",
   "name": "python3"
  },
  "language_info": {
   "codemirror_mode": {
    "name": "ipython",
    "version": 3
   },
   "file_extension": ".py",
   "mimetype": "text/x-python",
   "name": "python",
   "nbconvert_exporter": "python",
   "pygments_lexer": "ipython3",
   "version": "3.9.13"
  }
 },
 "nbformat": 4,
 "nbformat_minor": 2
}
