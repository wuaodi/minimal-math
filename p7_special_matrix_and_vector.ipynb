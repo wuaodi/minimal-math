{
 "cells": [
  {
   "cell_type": "code",
   "execution_count": 1,
   "metadata": {},
   "outputs": [],
   "source": [
    "# 对角矩阵：只有对角线为非负值的矩阵\n",
    "# 对角矩阵的逆 = 对角线上的值的倒数的转置\n",
    "# 对称矩阵：转置等于自己 a_i_j = a_j_i\n",
    "# 单位向量：向量的L2范数为1\n",
    "# 向量x与y正交：x的转置与y相乘=0\n",
    "# orthonormal（正交规范）：单位向量彼此正交\n",
    "# orthonormal matrix（正交规范矩阵）：行向量或列向量orthonormal的矩阵，矩阵的转置乘以自己=单位阵 -> 矩阵的转置等于矩阵的逆"
   ]
  },
  {
   "cell_type": "code",
   "execution_count": 6,
   "metadata": {},
   "outputs": [
    {
     "name": "stdout",
     "output_type": "stream",
     "text": [
      "对角矩阵：\n",
      "tensor([[1, 0, 0],\n",
      "        [0, 2, 0],\n",
      "        [0, 0, 3]])\n",
      "\n",
      "对角矩阵的逆：\n",
      "tensor([[1.0000, 0.0000, 0.0000],\n",
      "        [0.0000, 0.5000, 0.0000],\n",
      "        [0.0000, 0.0000, 0.3333]])\n",
      "\n",
      "对称矩阵：\n",
      "tensor([[1, 2, 3],\n",
      "        [2, 4, 5],\n",
      "        [3, 5, 6]])\n",
      "\n",
      "单位向量：\n",
      "tensor([1., 0., 0.])\n",
      "\n",
      "正交向量的点积：\n",
      "tensor(0)\n",
      "\n",
      "正交归一化矩阵：\n",
      "tensor([[1, 0, 0],\n",
      "        [0, 1, 0],\n",
      "        [0, 0, 1]])\n",
      "\n",
      "正交归一化矩阵的验证（转置乘以自身）：\n",
      "tensor([[1, 0, 0],\n",
      "        [0, 1, 0],\n",
      "        [0, 0, 1]])\n"
     ]
    }
   ],
   "source": [
    "import torch\n",
    "\n",
    "# 对角矩阵\n",
    "diagonal_matrix = torch.diag(torch.tensor([1, 2, 3]))\n",
    "print(\"对角矩阵：\")\n",
    "print(diagonal_matrix)\n",
    "\n",
    "# 对角矩阵的逆\n",
    "inverse_diagonal_matrix = torch.diag(1 / torch.tensor([1, 2, 3]))\n",
    "print(\"\\n对角矩阵的逆：\")\n",
    "print(inverse_diagonal_matrix)\n",
    "\n",
    "# 对称矩阵\n",
    "symmetric_matrix = torch.tensor([[1, 2, 3], [2, 4, 5], [3, 5, 6]])\n",
    "print(\"\\n对称矩阵：\")\n",
    "print(symmetric_matrix)\n",
    "\n",
    "# 单位向量\n",
    "unit_vector = torch.tensor([1, 0, 0]) / torch.norm(torch.tensor([1, 0, 0], dtype=torch.float))\n",
    "print(\"\\n单位向量：\")\n",
    "print(unit_vector)\n",
    "\n",
    "# 正交向量\n",
    "orthogonal_vector1 = torch.tensor([1, 0, 0])\n",
    "orthogonal_vector2 = torch.tensor([0, 1, 0])\n",
    "dot_product = torch.dot(orthogonal_vector1, orthogonal_vector2)\n",
    "print(\"\\n正交向量的点积：\")\n",
    "print(dot_product)\n",
    "\n",
    "# 正交归一化矩阵\n",
    "orthonormal_matrix = torch.tensor([[1, 0, 0], [0, 1, 0], [0, 0, 1]])\n",
    "print(\"\\n正交归一化矩阵：\")\n",
    "print(orthonormal_matrix)\n",
    "\n",
    "# 验证正交归一化\n",
    "orthonormal_check = torch.transpose(orthonormal_matrix, 0, 1) @ orthonormal_matrix\n",
    "print(\"\\n正交归一化矩阵的验证（转置乘以自身）：\")\n",
    "print(orthonormal_check)"
   ]
  }
 ],
 "metadata": {
  "kernelspec": {
   "display_name": "base",
   "language": "python",
   "name": "python3"
  },
  "language_info": {
   "codemirror_mode": {
    "name": "ipython",
    "version": 3
   },
   "file_extension": ".py",
   "mimetype": "text/x-python",
   "name": "python",
   "nbconvert_exporter": "python",
   "pygments_lexer": "ipython3",
   "version": "3.12.4"
  }
 },
 "nbformat": 4,
 "nbformat_minor": 2
}
