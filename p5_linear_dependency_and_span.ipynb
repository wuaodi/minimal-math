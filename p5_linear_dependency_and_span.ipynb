{
 "cells": [
  {
   "cell_type": "code",
   "execution_count": 3,
   "metadata": {},
   "outputs": [],
   "source": [
    "import torch\n",
    "\n",
    "# 测试在mac下能否导入torch使用\n",
    "# print(torch.backends.mps.is_available())\n",
    "## True\n",
    "# print(torch.backends.mps.is_built())\n",
    "## True"
   ]
  },
  {
   "cell_type": "code",
   "execution_count": null,
   "metadata": {},
   "outputs": [],
   "source": [
    "# Ax = b，什么时候有0个解，1个解，什么时候有无穷多个解？\n",
    "\"\"\" A = [[1,1],\n",
    "         [2,0]]\n",
    "    x = [3,\n",
    "         2]\n",
    "    Ax可以看作是使用x的两个值分别与A的列向量相乘再相加\n",
    "\n",
    "    x的任意取值使得A的两个向量组成的空间称之为A的span\n",
    "    span(A) = {a1*v1 + a2*v2 | a1,a2∈R}\n",
    "\n",
    "    如果A的两个列向量线性相关，那么span(A)就是一条线：\n",
    "    - 如果b不在这条线上就无解\n",
    "    - 如果b在这条线上，那么可以有无穷多个解\n",
    "    如果A的两个列向量线性无关，那么span(A)就可以充满整个空间\n",
    "    - 那么可以得到唯一的解\n",
    "\n",
    "    矩阵的rank可以表示线性相关的情况\n",
    "    对于一个N*N的矩阵A，如果rank(A)=N，那么就表示所有的列向量或者行向量都是线性无关的\n",
    "    那么span(A)就可以充满整个空间，那么x的任意取值都能得到唯一的解\n",
    "    此时A的逆是存在的\n",
    "\"\"\"\n"
   ]
  }
 ],
 "metadata": {
  "kernelspec": {
   "display_name": "base",
   "language": "python",
   "name": "python3"
  },
  "language_info": {
   "codemirror_mode": {
    "name": "ipython",
    "version": 3
   },
   "file_extension": ".py",
   "mimetype": "text/x-python",
   "name": "python",
   "nbconvert_exporter": "python",
   "pygments_lexer": "ipython3",
   "version": "3.9.13"
  }
 },
 "nbformat": 4,
 "nbformat_minor": 2
}
