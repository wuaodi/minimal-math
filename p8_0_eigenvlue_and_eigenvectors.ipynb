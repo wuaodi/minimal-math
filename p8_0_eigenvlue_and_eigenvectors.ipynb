{
 "cells": [
  {
   "cell_type": "code",
   "execution_count": null,
   "metadata": {},
   "outputs": [],
   "source": [
    "# 1、（A-λI）x = 0\n",
    "# 2、当（A-λI）为奇异矩阵[即存在线性相关的列/行向量]时候x存在非零解\n",
    "# 3、奇异矩阵相当于det（A-λI）= 0\n",
    "# 4、求解得到λ\n",
    "# 5、的到λ后，带入的到x\n",
    "# 6、一个特征值可能对应多个线性无关的特征向量"
   ]
  },
  {
   "cell_type": "code",
   "execution_count": 1,
   "metadata": {},
   "outputs": [],
   "source": [
    "# 什么样的矩阵不存在特征值，一个矩阵最多存在多少特征值？\n",
    "\n",
    "# 1、如果一个 n×n 矩阵 A 的特征多项式 det(A - λI) = 0 没有解，\n",
    "# 那么这个矩阵就不存在特征值。比如旋转矩阵\n",
    "# 2、一个 n×n 矩阵最多存在 n 个特征值。\n",
    "# 这是因为矩阵的特征多项式 det(A - λI) 是一个 n 次多项式,\n",
    "# 根据代数基本定理,它最多有 n 个根(特征值)。"
   ]
  },
  {
   "cell_type": "code",
   "execution_count": 70,
   "metadata": {},
   "outputs": [
    {
     "name": "stdout",
     "output_type": "stream",
     "text": [
      "随机非对称矩阵:\n",
      " tensor([[ 0.7071, -0.7071],\n",
      "        [ 0.7071,  0.7071]])\n",
      "非对称矩阵:\n",
      " tensor([[ 0.7071, -0.7071],\n",
      "        [ 0.7071,  0.7071]])\n",
      "实数特征值:\n",
      " tensor([])\n",
      "对应的特征向量:\n",
      " tensor([], size=(2, 0))\n"
     ]
    }
   ],
   "source": [
    "# 使用torch实现一个矩阵的特征值和特征向量\n",
    "\n",
    "import torch\n",
    "import numpy as np\n",
    "\n",
    "# 创建一个随机非对称矩阵\n",
    "matrix = torch.randn(5, 5)\n",
    "\n",
    "# 创建一个旋转矩阵，不存在特征值\n",
    "# 旋转角度（弧度）\n",
    "theta = torch.tensor(np.pi / 4)  # 45度\n",
    "# 创建二维旋转矩阵\n",
    "rotation_matrix = torch.tensor([\n",
    "    [torch.cos(theta), -torch.sin(theta)],\n",
    "    [torch.sin(theta), torch.cos(theta)]\n",
    "])\n",
    "print(\"旋转矩阵:\\n\", rotation_matrix)\n",
    "\n",
    "# 计算特征值和特征向量\n",
    "eigenvalues, eigenvectors = torch.linalg.eig(matrix)\n",
    "\n",
    "# 筛选实数特征值及对应的特征向量\n",
    "real_mask = eigenvalues.imag.abs() < 1e-6  # 判断特征值的虚部是否接近于0\n",
    "real_eigenvalues = eigenvalues[real_mask].real  # 取实数部分\n",
    "real_eigenvectors = eigenvectors[:, real_mask].real  # 对应的特征向量\n",
    "\n",
    "# 输出结果\n",
    "print(\"非对称矩阵:\\n\", matrix)\n",
    "print(\"实数特征值:\\n\", real_eigenvalues)\n",
    "print(\"对应的特征向量:\\n\", real_eigenvectors)\n"
   ]
  }
 ],
 "metadata": {
  "kernelspec": {
   "display_name": "base",
   "language": "python",
   "name": "python3"
  },
  "language_info": {
   "codemirror_mode": {
    "name": "ipython",
    "version": 3
   },
   "file_extension": ".py",
   "mimetype": "text/x-python",
   "name": "python",
   "nbconvert_exporter": "python",
   "pygments_lexer": "ipython3",
   "version": "3.12.4"
  }
 },
 "nbformat": 4,
 "nbformat_minor": 2
}
