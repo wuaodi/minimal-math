{
 "cells": [
  {
   "cell_type": "code",
   "execution_count": null,
   "metadata": {},
   "outputs": [],
   "source": [
    "# 1、（A-lambda I）x = 0\n",
    "# 2、当（A-lambda I）为奇异矩阵[即存在线性相关的列/行向量]时候x存在非零解\n",
    "# 3、奇异矩阵相当于det（A-lambda I）= 0\n",
    "# 4、求解得到lambda\n",
    "# 5、的到lambda后，带入的到x\n",
    "# 6、一个特征值可能对应多个线性无关的特征向量"
   ]
  },
  {
   "cell_type": "code",
   "execution_count": null,
   "metadata": {},
   "outputs": [],
   "source": [
    "# 什么样的矩阵不存在特征值，一个矩阵最多存在多少特征值？\n",
    "\n",
    "# 1、如果一个 n×n 矩阵 A 的特征多项式 det(A - λI) = 0 没有解，\n",
    "# 那么这个矩阵就不存在特征值。比如旋转矩阵\n",
    "# 2、一个 n×n 矩阵最多存在 n 个特征值。\n",
    "# 这是因为矩阵的特征多项式 det(A - λI) 是一个 n 次多项式,\n",
    "# 根据代数基本定理,它最多有 n 个根(特征值)。"
   ]
  }
 ],
 "metadata": {
  "language_info": {
   "name": "python"
  }
 },
 "nbformat": 4,
 "nbformat_minor": 2
}
