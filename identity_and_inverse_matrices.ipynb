{
 "cells": [
  {
   "cell_type": "code",
   "id": "initial_id",
   "metadata": {
    "collapsed": true,
    "ExecuteTime": {
     "end_time": "2024-06-27T03:12:10.261070Z",
     "start_time": "2024-06-27T03:12:10.255160Z"
    }
   },
   "source": "print(\"Hello World\")",
   "outputs": [
    {
     "name": "stdout",
     "output_type": "stream",
     "text": [
      "Hello World\n"
     ]
    }
   ],
   "execution_count": 20
  },
  {
   "metadata": {
    "ExecuteTime": {
     "end_time": "2024-06-27T03:15:15.644172Z",
     "start_time": "2024-06-27T03:15:15.641353Z"
    }
   },
   "cell_type": "code",
   "source": "import torch",
   "id": "ec6606831777eb9b",
   "outputs": [],
   "execution_count": 22
  },
  {
   "metadata": {
    "ExecuteTime": {
     "end_time": "2024-06-27T03:20:39.585289Z",
     "start_time": "2024-06-27T03:20:39.578296Z"
    }
   },
   "cell_type": "code",
   "source": [
    "# 使用pytorch实现identity matrix 与 向量相乘的例子\n",
    "# 创建一个向量\n",
    "vector = torch.tensor([1, 2, 3, 4, 5], dtype=torch.float32)\n",
    "\n",
    "# 创建一个与向量维度相同的单位矩阵\n",
    "identity_matrix = torch.eye(vector.size(0))\n",
    "\n",
    "# 执行矩阵乘法\n",
    "result = torch.matmul(identity_matrix, vector)\n",
    "\n",
    "print(\"原始向量:\", vector)\n",
    "print(\"单位矩阵:\")\n",
    "print(identity_matrix)\n",
    "print(\"结果:\", result)"
   ],
   "id": "c98ff11139049a6b",
   "outputs": [
    {
     "name": "stdout",
     "output_type": "stream",
     "text": [
      "原始向量: tensor([1., 2., 3., 4., 5.])\n",
      "单位矩阵:\n",
      "tensor([[1., 0., 0., 0., 0.],\n",
      "        [0., 1., 0., 0., 0.],\n",
      "        [0., 0., 1., 0., 0.],\n",
      "        [0., 0., 0., 1., 0.],\n",
      "        [0., 0., 0., 0., 1.]])\n",
      "结果: tensor([1., 2., 3., 4., 5.])\n"
     ]
    }
   ],
   "execution_count": 30
  },
  {
   "metadata": {
    "ExecuteTime": {
     "end_time": "2024-06-27T03:24:22.384025Z",
     "start_time": "2024-06-27T03:24:22.372116Z"
    }
   },
   "cell_type": "code",
   "source": [
    "# 矩阵的逆的定义为 A^-1 * A = I\n",
    "# 使用pytorch求解一个矩阵的逆\n",
    "matrix = torch.tensor([[1, 1], [2, 0]], dtype=torch.float32)\n",
    "inverse_matrix = torch.inverse(matrix)\n",
    "print(\"原始矩阵:\")\n",
    "print(matrix)\n",
    "print(\"逆矩阵:\")\n",
    "print(inverse_matrix)"
   ],
   "id": "2483e0bc942cfc59",
   "outputs": [
    {
     "name": "stdout",
     "output_type": "stream",
     "text": [
      "原始矩阵:\n",
      "tensor([[1., 1.],\n",
      "        [2., 0.]])\n",
      "逆矩阵:\n",
      "tensor([[ 0.0000,  0.5000],\n",
      "        [ 1.0000, -0.5000]])\n"
     ]
    }
   ],
   "execution_count": 34
  },
  {
   "metadata": {
    "ExecuteTime": {
     "end_time": "2024-06-27T03:25:43.447577Z",
     "start_time": "2024-06-27T03:25:43.435981Z"
    }
   },
   "cell_type": "code",
   "source": [
    "# 使用矩阵的逆求解线性方程\n",
    "# A * x = b\n",
    "# A^-1 * A * x = A^-1 * b\n",
    "# x = A^-1 * b\n",
    "matrix = torch.tensor([[1, 1], [2, 0]], dtype=torch.float32)\n",
    "inverse_matrix = torch.inverse(matrix)\n",
    "vector = torch.tensor([2, 1], dtype=torch.float32)\n",
    "solution = torch.matmul(inverse_matrix, vector)\n",
    "print(\"原始矩阵:\")\n",
    "print(matrix)\n",
    "print(\"逆矩阵:\")\n",
    "print(inverse_matrix)\n",
    "print(\"原始向量:\", vector)\n",
    "print(\"解:\", solution)"
   ],
   "id": "f8d2f6fb755f22f",
   "outputs": [
    {
     "name": "stdout",
     "output_type": "stream",
     "text": [
      "原始矩阵:\n",
      "tensor([[1., 1.],\n",
      "        [2., 0.]])\n",
      "逆矩阵:\n",
      "tensor([[ 0.0000,  0.5000],\n",
      "        [ 1.0000, -0.5000]])\n",
      "原始向量: tensor([2., 1.])\n",
      "解: tensor([0.5000, 1.5000])\n"
     ]
    }
   ],
   "execution_count": 35
  }
 ],
 "metadata": {
  "kernelspec": {
   "display_name": "Python 3",
   "language": "python",
   "name": "python3"
  },
  "language_info": {
   "codemirror_mode": {
    "name": "ipython",
    "version": 2
   },
   "file_extension": ".py",
   "mimetype": "text/x-python",
   "name": "python",
   "nbconvert_exporter": "python",
   "pygments_lexer": "ipython2",
   "version": "2.7.6"
  }
 },
 "nbformat": 4,
 "nbformat_minor": 5
}
