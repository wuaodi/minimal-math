{
 "cells": [
  {
   "cell_type": "code",
   "execution_count": 1,
   "metadata": {},
   "outputs": [],
   "source": [
    "# A random variable is a variable that can take on different values randomly"
   ]
  },
  {
   "cell_type": "code",
   "execution_count": 5,
   "metadata": {},
   "outputs": [],
   "source": [
    "# PMF 概率质量函数 离散随机变量每个值的取值概率\n",
    "# PDF 概率密度函数 连续随机变量每个值的取值概率\n",
    "# X ～ p(X) 离散随机标量X服从分布p(X)\n",
    "# 离散随机变量，p(x)表示，p(X=x)"
   ]
  },
  {
   "cell_type": "markdown",
   "metadata": {},
   "source": [
    "联合概率、边缘概率、条件概率和贝叶斯公式"
   ]
  },
  {
   "cell_type": "code",
   "execution_count": 3,
   "metadata": {},
   "outputs": [
    {
     "name": "stdout",
     "output_type": "stream",
     "text": [
      "联合概率 P(X, Y):\n",
      "[[0.1 0.2 0.1]\n",
      " [0.3 0.  0.1]\n",
      " [0.1 0.1 0. ]]\n",
      "边缘概率 P(X): [0.4 0.4 0.2]\n",
      "边缘概率 P(Y): [0.5 0.3 0.2]\n",
      "条件概率 P(Y|X):\n",
      "[[0.25 0.5  0.25]\n",
      " [0.75 0.   0.25]\n",
      " [0.5  0.5  0.  ]]\n"
     ]
    }
   ],
   "source": [
    "# 离散随机变量\n",
    "\n",
    "import numpy as np\n",
    "\n",
    "# 定义联合概率分布\n",
    "P_xy = np.array([[0.1, 0.2, 0.1],  # P(X=0, Y=0), P(X=0, Y=1), P(X=0, Y=2)\n",
    "                 [0.3, 0.0, 0.1],  # P(X=1, Y=0), P(X=1, Y=1), P(X=1, Y=2)\n",
    "                 [0.1, 0.1, 0.0]]) # P(X=2, Y=0), P(X=2, Y=1), P(X=2, Y=2)\n",
    "\n",
    "# 计算边缘概率\n",
    "P_x = P_xy.sum(axis=1)  # P(X)\n",
    "P_y = P_xy.sum(axis=0)  # P(Y)\n",
    "\n",
    "# 计算条件概率 P(Y|X)\n",
    "P_Y_given_X = P_xy / P_x[:, np.newaxis]\n",
    "\n",
    "# 打印结果\n",
    "print(\"联合概率 P(X, Y):\")\n",
    "print(P_xy)\n",
    "print(\"边缘概率 P(X):\", P_x)\n",
    "print(\"边缘概率 P(Y):\", P_y)\n",
    "print(\"条件概率 P(Y|X):\")\n",
    "print(P_Y_given_X)"
   ]
  },
  {
   "cell_type": "code",
   "execution_count": 6,
   "metadata": {},
   "outputs": [
    {
     "name": "stdout",
     "output_type": "stream",
     "text": [
      "P(A|B): 0.631578947368421\n"
     ]
    }
   ],
   "source": [
    "# 贝叶斯公式\n",
    "\n",
    "# 定义先验概率 P(A) 和 P(B|A)\n",
    "P_A = 0.3  # 事件 A 发生的先验概率\n",
    "P_B_given_A = 0.8  # 事件 B 在 A 发生的情况下的概率\n",
    "\n",
    "# 计算 P(B) = P(B|A) * P(A) + P(B|¬A) * P(¬A)\n",
    "P_not_A = 1 - P_A  # 事件 A 不发生的概率\n",
    "P_B_given_not_A = 0.5  # 假定事件 B 在 A 不发生的情况下的概率\n",
    "\n",
    "# 计算 P(B)\n",
    "P_B = P_B_given_A * P_A + P_B_given_not_A * P_not_A\n",
    "\n",
    "# 使用贝叶斯公式计算 P(A|B)\n",
    "P_A_given_B = (P_B_given_A * P_A) / P_B\n",
    "\n",
    "# 打印结果\n",
    "print(\"P(A|B):\", P_A_given_B)"
   ]
  },
  {
   "cell_type": "markdown",
   "metadata": {},
   "source": [
    "两个随机变量相互独立"
   ]
  },
  {
   "cell_type": "code",
   "execution_count": 7,
   "metadata": {},
   "outputs": [
    {
     "name": "stdout",
     "output_type": "stream",
     "text": [
      "X 和 Y 相互独立: True\n"
     ]
    }
   ],
   "source": [
    "# 相互独立：P(X,Y)=P(X)⋅P(Y)\n",
    "# 条件独立：P(X,Y∣Z)=P(X∣Z)⋅P(Y∣Z)\n",
    "\n",
    "import numpy as np\n",
    "\n",
    "# 定义概率分布\n",
    "P_X = 0.5  # P(X=1)\n",
    "P_Y = 0.3  # P(Y=1)\n",
    "\n",
    "# 计算 P(X, Y) 假设 X 和 Y 是独立的\n",
    "P_XY_independent = P_X * P_Y\n",
    "\n",
    "# 假设观察到的联合概率\n",
    "P_XY_observed = 0.15\n",
    "\n",
    "# 检查独立性\n",
    "is_independent = np.isclose(P_XY_independent, P_XY_observed)\n",
    "print(\"X 和 Y 相互独立:\", is_independent)"
   ]
  }
 ],
 "metadata": {
  "kernelspec": {
   "display_name": "base",
   "language": "python",
   "name": "python3"
  },
  "language_info": {
   "codemirror_mode": {
    "name": "ipython",
    "version": 3
   },
   "file_extension": ".py",
   "mimetype": "text/x-python",
   "name": "python",
   "nbconvert_exporter": "python",
   "pygments_lexer": "ipython3",
   "version": "3.9.13"
  }
 },
 "nbformat": 4,
 "nbformat_minor": 2
}
